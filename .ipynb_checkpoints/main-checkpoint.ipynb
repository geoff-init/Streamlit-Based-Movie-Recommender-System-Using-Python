{
 "cells": [
  {
   "cell_type": "code",
   "execution_count": 2,
   "id": "46004aa4",
   "metadata": {},
   "outputs": [],
   "source": [
    "import numpy as np\n",
    "import pandas as pd\n",
    "from sklearn.feature_extraction.text import CountVectorizer\n",
    "from sklearn.metrics.pairwise import cosine_similarity\n",
    "from fuzzywuzzy import process"
   ]
  },
  {
   "cell_type": "code",
   "execution_count": 3,
   "id": "525925b2",
   "metadata": {},
   "outputs": [],
   "source": [
    "sampled_movies = pd.read_csv('dataset.csv')"
   ]
  },
  {
   "cell_type": "code",
   "execution_count": 4,
   "id": "159a29ee",
   "metadata": {},
   "outputs": [],
   "source": [
    "sampled_movies = movies.sample(n=500, random_state=42).reset_index(drop=True)"
   ]
  },
  {
   "cell_type": "code",
   "execution_count": 5,
   "id": "cb393b21",
   "metadata": {},
   "outputs": [],
   "source": [
    "sampled_movies.to_csv('sampled_movies_dataset.csv', index=False)"
   ]
  },
  {
   "cell_type": "code",
   "execution_count": 6,
   "id": "7d164daa",
   "metadata": {},
   "outputs": [],
   "source": [
    "movies = pd.read_csv('sampled_movies_dataset.csv')"
   ]
  },
  {
   "cell_type": "markdown",
   "id": "01943831",
   "metadata": {},
   "source": [
    "### Exploratory data analysis"
   ]
  },
  {
   "cell_type": "code",
   "execution_count": 7,
   "id": "03e1bd58",
   "metadata": {},
   "outputs": [
    {
     "data": {
      "text/html": [
       "<div>\n",
       "<style scoped>\n",
       "    .dataframe tbody tr th:only-of-type {\n",
       "        vertical-align: middle;\n",
       "    }\n",
       "\n",
       "    .dataframe tbody tr th {\n",
       "        vertical-align: top;\n",
       "    }\n",
       "\n",
       "    .dataframe thead th {\n",
       "        text-align: right;\n",
       "    }\n",
       "</style>\n",
       "<table border=\"1\" class=\"dataframe\">\n",
       "  <thead>\n",
       "    <tr style=\"text-align: right;\">\n",
       "      <th></th>\n",
       "      <th>id</th>\n",
       "      <th>title</th>\n",
       "      <th>genre</th>\n",
       "      <th>original_language</th>\n",
       "      <th>overview</th>\n",
       "      <th>popularity</th>\n",
       "      <th>release_date</th>\n",
       "      <th>vote_average</th>\n",
       "      <th>vote_count</th>\n",
       "    </tr>\n",
       "  </thead>\n",
       "  <tbody>\n",
       "    <tr>\n",
       "      <th>0</th>\n",
       "      <td>332567</td>\n",
       "      <td>The Shallows</td>\n",
       "      <td>Horror,Drama,Thriller</td>\n",
       "      <td>en</td>\n",
       "      <td>When Nancy is surfing on a secluded beach, she...</td>\n",
       "      <td>25.619</td>\n",
       "      <td>2016-06-24</td>\n",
       "      <td>6.4</td>\n",
       "      <td>4466</td>\n",
       "    </tr>\n",
       "    <tr>\n",
       "      <th>1</th>\n",
       "      <td>727293</td>\n",
       "      <td>The Tender Bar</td>\n",
       "      <td>Drama</td>\n",
       "      <td>en</td>\n",
       "      <td>J.R. is a fatherless boy growing up in the glo...</td>\n",
       "      <td>38.860</td>\n",
       "      <td>2021-12-17</td>\n",
       "      <td>6.7</td>\n",
       "      <td>340</td>\n",
       "    </tr>\n",
       "    <tr>\n",
       "      <th>2</th>\n",
       "      <td>9385</td>\n",
       "      <td>The Twelve Tasks of Asterix</td>\n",
       "      <td>Family,Animation,Comedy,Adventure</td>\n",
       "      <td>fr</td>\n",
       "      <td>Asterix and Obelix depart on an adventure to c...</td>\n",
       "      <td>11.680</td>\n",
       "      <td>1976-06-26</td>\n",
       "      <td>7.4</td>\n",
       "      <td>947</td>\n",
       "    </tr>\n",
       "    <tr>\n",
       "      <th>3</th>\n",
       "      <td>635731</td>\n",
       "      <td>Pig</td>\n",
       "      <td>Drama,Thriller</td>\n",
       "      <td>en</td>\n",
       "      <td>A truffle hunter who lives alone in the Oregon...</td>\n",
       "      <td>13.756</td>\n",
       "      <td>2021-07-16</td>\n",
       "      <td>6.7</td>\n",
       "      <td>787</td>\n",
       "    </tr>\n",
       "    <tr>\n",
       "      <th>4</th>\n",
       "      <td>8835</td>\n",
       "      <td>Legally Blonde</td>\n",
       "      <td>Comedy</td>\n",
       "      <td>en</td>\n",
       "      <td>Elle Woods, a fashionable sorority queen, is d...</td>\n",
       "      <td>36.648</td>\n",
       "      <td>2001-07-13</td>\n",
       "      <td>6.7</td>\n",
       "      <td>3157</td>\n",
       "    </tr>\n",
       "  </tbody>\n",
       "</table>\n",
       "</div>"
      ],
      "text/plain": [
       "       id                        title                              genre  \\\n",
       "0  332567                 The Shallows              Horror,Drama,Thriller   \n",
       "1  727293               The Tender Bar                              Drama   \n",
       "2    9385  The Twelve Tasks of Asterix  Family,Animation,Comedy,Adventure   \n",
       "3  635731                          Pig                     Drama,Thriller   \n",
       "4    8835               Legally Blonde                             Comedy   \n",
       "\n",
       "  original_language                                           overview  \\\n",
       "0                en  When Nancy is surfing on a secluded beach, she...   \n",
       "1                en  J.R. is a fatherless boy growing up in the glo...   \n",
       "2                fr  Asterix and Obelix depart on an adventure to c...   \n",
       "3                en  A truffle hunter who lives alone in the Oregon...   \n",
       "4                en  Elle Woods, a fashionable sorority queen, is d...   \n",
       "\n",
       "   popularity release_date  vote_average  vote_count  \n",
       "0      25.619   2016-06-24           6.4        4466  \n",
       "1      38.860   2021-12-17           6.7         340  \n",
       "2      11.680   1976-06-26           7.4         947  \n",
       "3      13.756   2021-07-16           6.7         787  \n",
       "4      36.648   2001-07-13           6.7        3157  "
      ]
     },
     "execution_count": 7,
     "metadata": {},
     "output_type": "execute_result"
    }
   ],
   "source": [
    "movies.head()"
   ]
  },
  {
   "cell_type": "code",
   "execution_count": 8,
   "id": "4a661e79",
   "metadata": {},
   "outputs": [
    {
     "name": "stdout",
     "output_type": "stream",
     "text": [
      "<class 'pandas.core.frame.DataFrame'>\n",
      "RangeIndex: 500 entries, 0 to 499\n",
      "Data columns (total 9 columns):\n",
      " #   Column             Non-Null Count  Dtype  \n",
      "---  ------             --------------  -----  \n",
      " 0   id                 500 non-null    int64  \n",
      " 1   title              500 non-null    object \n",
      " 2   genre              499 non-null    object \n",
      " 3   original_language  500 non-null    object \n",
      " 4   overview           500 non-null    object \n",
      " 5   popularity         500 non-null    float64\n",
      " 6   release_date       500 non-null    object \n",
      " 7   vote_average       500 non-null    float64\n",
      " 8   vote_count         500 non-null    int64  \n",
      "dtypes: float64(2), int64(2), object(5)\n",
      "memory usage: 35.3+ KB\n"
     ]
    }
   ],
   "source": [
    "movies.info()"
   ]
  },
  {
   "cell_type": "code",
   "execution_count": 9,
   "id": "bb3161b8",
   "metadata": {},
   "outputs": [
    {
     "data": {
      "text/html": [
       "<div>\n",
       "<style scoped>\n",
       "    .dataframe tbody tr th:only-of-type {\n",
       "        vertical-align: middle;\n",
       "    }\n",
       "\n",
       "    .dataframe tbody tr th {\n",
       "        vertical-align: top;\n",
       "    }\n",
       "\n",
       "    .dataframe thead th {\n",
       "        text-align: right;\n",
       "    }\n",
       "</style>\n",
       "<table border=\"1\" class=\"dataframe\">\n",
       "  <thead>\n",
       "    <tr style=\"text-align: right;\">\n",
       "      <th></th>\n",
       "      <th>id</th>\n",
       "      <th>popularity</th>\n",
       "      <th>vote_average</th>\n",
       "      <th>vote_count</th>\n",
       "    </tr>\n",
       "  </thead>\n",
       "  <tbody>\n",
       "    <tr>\n",
       "      <th>count</th>\n",
       "      <td>500.000000</td>\n",
       "      <td>500.000000</td>\n",
       "      <td>500.000000</td>\n",
       "      <td>500.00000</td>\n",
       "    </tr>\n",
       "    <tr>\n",
       "      <th>mean</th>\n",
       "      <td>169569.192000</td>\n",
       "      <td>38.930400</td>\n",
       "      <td>6.650400</td>\n",
       "      <td>1726.47200</td>\n",
       "    </tr>\n",
       "    <tr>\n",
       "      <th>std</th>\n",
       "      <td>213470.952704</td>\n",
       "      <td>238.723634</td>\n",
       "      <td>0.762379</td>\n",
       "      <td>3078.41067</td>\n",
       "    </tr>\n",
       "    <tr>\n",
       "      <th>min</th>\n",
       "      <td>141.000000</td>\n",
       "      <td>0.600000</td>\n",
       "      <td>4.800000</td>\n",
       "      <td>200.00000</td>\n",
       "    </tr>\n",
       "    <tr>\n",
       "      <th>25%</th>\n",
       "      <td>10651.750000</td>\n",
       "      <td>9.191750</td>\n",
       "      <td>6.100000</td>\n",
       "      <td>333.00000</td>\n",
       "    </tr>\n",
       "    <tr>\n",
       "      <th>50%</th>\n",
       "      <td>36687.000000</td>\n",
       "      <td>13.891500</td>\n",
       "      <td>6.600000</td>\n",
       "      <td>584.00000</td>\n",
       "    </tr>\n",
       "    <tr>\n",
       "      <th>75%</th>\n",
       "      <td>336886.750000</td>\n",
       "      <td>28.427750</td>\n",
       "      <td>7.200000</td>\n",
       "      <td>1650.00000</td>\n",
       "    </tr>\n",
       "    <tr>\n",
       "      <th>max</th>\n",
       "      <td>920394.000000</td>\n",
       "      <td>5278.336000</td>\n",
       "      <td>8.600000</td>\n",
       "      <td>25020.00000</td>\n",
       "    </tr>\n",
       "  </tbody>\n",
       "</table>\n",
       "</div>"
      ],
      "text/plain": [
       "                  id   popularity  vote_average   vote_count\n",
       "count     500.000000   500.000000    500.000000    500.00000\n",
       "mean   169569.192000    38.930400      6.650400   1726.47200\n",
       "std    213470.952704   238.723634      0.762379   3078.41067\n",
       "min       141.000000     0.600000      4.800000    200.00000\n",
       "25%     10651.750000     9.191750      6.100000    333.00000\n",
       "50%     36687.000000    13.891500      6.600000    584.00000\n",
       "75%    336886.750000    28.427750      7.200000   1650.00000\n",
       "max    920394.000000  5278.336000      8.600000  25020.00000"
      ]
     },
     "execution_count": 9,
     "metadata": {},
     "output_type": "execute_result"
    }
   ],
   "source": [
    "movies.describe()"
   ]
  },
  {
   "cell_type": "code",
   "execution_count": 10,
   "id": "e0fb67f5",
   "metadata": {},
   "outputs": [
    {
     "data": {
      "text/plain": [
       "id                   0\n",
       "title                0\n",
       "genre                1\n",
       "original_language    0\n",
       "overview             0\n",
       "popularity           0\n",
       "release_date         0\n",
       "vote_average         0\n",
       "vote_count           0\n",
       "dtype: int64"
      ]
     },
     "execution_count": 10,
     "metadata": {},
     "output_type": "execute_result"
    }
   ],
   "source": [
    "movies.isnull().sum()"
   ]
  },
  {
   "cell_type": "code",
   "execution_count": 11,
   "id": "37d4953c",
   "metadata": {},
   "outputs": [],
   "source": [
    "movies = movies.fillna(\" \")"
   ]
  },
  {
   "cell_type": "markdown",
   "id": "2bafa4e9",
   "metadata": {},
   "source": [
    "### Feature selection"
   ]
  },
  {
   "cell_type": "code",
   "execution_count": 12,
   "id": "0661967e",
   "metadata": {},
   "outputs": [
    {
     "data": {
      "text/plain": [
       "Index(['id', 'title', 'genre', 'original_language', 'overview', 'popularity',\n",
       "       'release_date', 'vote_average', 'vote_count'],\n",
       "      dtype='object')"
      ]
     },
     "execution_count": 12,
     "metadata": {},
     "output_type": "execute_result"
    }
   ],
   "source": [
    "movies.columns"
   ]
  },
  {
   "cell_type": "code",
   "execution_count": 13,
   "id": "5ff85085",
   "metadata": {},
   "outputs": [],
   "source": [
    "movies = movies[['id', 'title', 'genre', 'overview']]"
   ]
  },
  {
   "cell_type": "code",
   "execution_count": 14,
   "id": "4428279e",
   "metadata": {},
   "outputs": [
    {
     "data": {
      "text/html": [
       "<div>\n",
       "<style scoped>\n",
       "    .dataframe tbody tr th:only-of-type {\n",
       "        vertical-align: middle;\n",
       "    }\n",
       "\n",
       "    .dataframe tbody tr th {\n",
       "        vertical-align: top;\n",
       "    }\n",
       "\n",
       "    .dataframe thead th {\n",
       "        text-align: right;\n",
       "    }\n",
       "</style>\n",
       "<table border=\"1\" class=\"dataframe\">\n",
       "  <thead>\n",
       "    <tr style=\"text-align: right;\">\n",
       "      <th></th>\n",
       "      <th>id</th>\n",
       "      <th>title</th>\n",
       "      <th>genre</th>\n",
       "      <th>overview</th>\n",
       "    </tr>\n",
       "  </thead>\n",
       "  <tbody>\n",
       "    <tr>\n",
       "      <th>0</th>\n",
       "      <td>332567</td>\n",
       "      <td>The Shallows</td>\n",
       "      <td>Horror,Drama,Thriller</td>\n",
       "      <td>When Nancy is surfing on a secluded beach, she...</td>\n",
       "    </tr>\n",
       "    <tr>\n",
       "      <th>1</th>\n",
       "      <td>727293</td>\n",
       "      <td>The Tender Bar</td>\n",
       "      <td>Drama</td>\n",
       "      <td>J.R. is a fatherless boy growing up in the glo...</td>\n",
       "    </tr>\n",
       "    <tr>\n",
       "      <th>2</th>\n",
       "      <td>9385</td>\n",
       "      <td>The Twelve Tasks of Asterix</td>\n",
       "      <td>Family,Animation,Comedy,Adventure</td>\n",
       "      <td>Asterix and Obelix depart on an adventure to c...</td>\n",
       "    </tr>\n",
       "    <tr>\n",
       "      <th>3</th>\n",
       "      <td>635731</td>\n",
       "      <td>Pig</td>\n",
       "      <td>Drama,Thriller</td>\n",
       "      <td>A truffle hunter who lives alone in the Oregon...</td>\n",
       "    </tr>\n",
       "    <tr>\n",
       "      <th>4</th>\n",
       "      <td>8835</td>\n",
       "      <td>Legally Blonde</td>\n",
       "      <td>Comedy</td>\n",
       "      <td>Elle Woods, a fashionable sorority queen, is d...</td>\n",
       "    </tr>\n",
       "    <tr>\n",
       "      <th>...</th>\n",
       "      <td>...</td>\n",
       "      <td>...</td>\n",
       "      <td>...</td>\n",
       "      <td>...</td>\n",
       "    </tr>\n",
       "    <tr>\n",
       "      <th>495</th>\n",
       "      <td>27936</td>\n",
       "      <td>Micmacs</td>\n",
       "      <td>Action,Comedy,Crime</td>\n",
       "      <td>While standing in the doorway of the video sho...</td>\n",
       "    </tr>\n",
       "    <tr>\n",
       "      <th>496</th>\n",
       "      <td>178</td>\n",
       "      <td>Blown Away</td>\n",
       "      <td>Thriller,Action,Crime,Drama</td>\n",
       "      <td>Blown Away tells the story of Jimmy Dove who w...</td>\n",
       "    </tr>\n",
       "    <tr>\n",
       "      <th>497</th>\n",
       "      <td>398173</td>\n",
       "      <td>The House That Jack Built</td>\n",
       "      <td>Drama,Horror,Crime,Thriller</td>\n",
       "      <td>Failed architect, engineer and vicious murdere...</td>\n",
       "    </tr>\n",
       "    <tr>\n",
       "      <th>498</th>\n",
       "      <td>453278</td>\n",
       "      <td>The Rider</td>\n",
       "      <td>Drama</td>\n",
       "      <td>Once a rising star of the rodeo circuit, and a...</td>\n",
       "    </tr>\n",
       "    <tr>\n",
       "      <th>499</th>\n",
       "      <td>659067</td>\n",
       "      <td>Earth and Blood</td>\n",
       "      <td>Action,Thriller</td>\n",
       "      <td>A sawmill owner and his teenage daughter becom...</td>\n",
       "    </tr>\n",
       "  </tbody>\n",
       "</table>\n",
       "<p>500 rows × 4 columns</p>\n",
       "</div>"
      ],
      "text/plain": [
       "         id                        title                              genre  \\\n",
       "0    332567                 The Shallows              Horror,Drama,Thriller   \n",
       "1    727293               The Tender Bar                              Drama   \n",
       "2      9385  The Twelve Tasks of Asterix  Family,Animation,Comedy,Adventure   \n",
       "3    635731                          Pig                     Drama,Thriller   \n",
       "4      8835               Legally Blonde                             Comedy   \n",
       "..      ...                          ...                                ...   \n",
       "495   27936                      Micmacs                Action,Comedy,Crime   \n",
       "496     178                   Blown Away        Thriller,Action,Crime,Drama   \n",
       "497  398173    The House That Jack Built        Drama,Horror,Crime,Thriller   \n",
       "498  453278                    The Rider                              Drama   \n",
       "499  659067              Earth and Blood                    Action,Thriller   \n",
       "\n",
       "                                              overview  \n",
       "0    When Nancy is surfing on a secluded beach, she...  \n",
       "1    J.R. is a fatherless boy growing up in the glo...  \n",
       "2    Asterix and Obelix depart on an adventure to c...  \n",
       "3    A truffle hunter who lives alone in the Oregon...  \n",
       "4    Elle Woods, a fashionable sorority queen, is d...  \n",
       "..                                                 ...  \n",
       "495  While standing in the doorway of the video sho...  \n",
       "496  Blown Away tells the story of Jimmy Dove who w...  \n",
       "497  Failed architect, engineer and vicious murdere...  \n",
       "498  Once a rising star of the rodeo circuit, and a...  \n",
       "499  A sawmill owner and his teenage daughter becom...  \n",
       "\n",
       "[500 rows x 4 columns]"
      ]
     },
     "execution_count": 14,
     "metadata": {},
     "output_type": "execute_result"
    }
   ],
   "source": [
    "movies"
   ]
  },
  {
   "cell_type": "code",
   "execution_count": 15,
   "id": "52956f80",
   "metadata": {},
   "outputs": [],
   "source": [
    "movies['tags'] = movies['overview'] + movies['genre']"
   ]
  },
  {
   "cell_type": "code",
   "execution_count": 16,
   "id": "9e5cbbd4",
   "metadata": {},
   "outputs": [
    {
     "data": {
      "text/html": [
       "<div>\n",
       "<style scoped>\n",
       "    .dataframe tbody tr th:only-of-type {\n",
       "        vertical-align: middle;\n",
       "    }\n",
       "\n",
       "    .dataframe tbody tr th {\n",
       "        vertical-align: top;\n",
       "    }\n",
       "\n",
       "    .dataframe thead th {\n",
       "        text-align: right;\n",
       "    }\n",
       "</style>\n",
       "<table border=\"1\" class=\"dataframe\">\n",
       "  <thead>\n",
       "    <tr style=\"text-align: right;\">\n",
       "      <th></th>\n",
       "      <th>id</th>\n",
       "      <th>title</th>\n",
       "      <th>genre</th>\n",
       "      <th>overview</th>\n",
       "      <th>tags</th>\n",
       "    </tr>\n",
       "  </thead>\n",
       "  <tbody>\n",
       "    <tr>\n",
       "      <th>0</th>\n",
       "      <td>332567</td>\n",
       "      <td>The Shallows</td>\n",
       "      <td>Horror,Drama,Thriller</td>\n",
       "      <td>When Nancy is surfing on a secluded beach, she...</td>\n",
       "      <td>When Nancy is surfing on a secluded beach, she...</td>\n",
       "    </tr>\n",
       "    <tr>\n",
       "      <th>1</th>\n",
       "      <td>727293</td>\n",
       "      <td>The Tender Bar</td>\n",
       "      <td>Drama</td>\n",
       "      <td>J.R. is a fatherless boy growing up in the glo...</td>\n",
       "      <td>J.R. is a fatherless boy growing up in the glo...</td>\n",
       "    </tr>\n",
       "    <tr>\n",
       "      <th>2</th>\n",
       "      <td>9385</td>\n",
       "      <td>The Twelve Tasks of Asterix</td>\n",
       "      <td>Family,Animation,Comedy,Adventure</td>\n",
       "      <td>Asterix and Obelix depart on an adventure to c...</td>\n",
       "      <td>Asterix and Obelix depart on an adventure to c...</td>\n",
       "    </tr>\n",
       "    <tr>\n",
       "      <th>3</th>\n",
       "      <td>635731</td>\n",
       "      <td>Pig</td>\n",
       "      <td>Drama,Thriller</td>\n",
       "      <td>A truffle hunter who lives alone in the Oregon...</td>\n",
       "      <td>A truffle hunter who lives alone in the Oregon...</td>\n",
       "    </tr>\n",
       "    <tr>\n",
       "      <th>4</th>\n",
       "      <td>8835</td>\n",
       "      <td>Legally Blonde</td>\n",
       "      <td>Comedy</td>\n",
       "      <td>Elle Woods, a fashionable sorority queen, is d...</td>\n",
       "      <td>Elle Woods, a fashionable sorority queen, is d...</td>\n",
       "    </tr>\n",
       "    <tr>\n",
       "      <th>...</th>\n",
       "      <td>...</td>\n",
       "      <td>...</td>\n",
       "      <td>...</td>\n",
       "      <td>...</td>\n",
       "      <td>...</td>\n",
       "    </tr>\n",
       "    <tr>\n",
       "      <th>495</th>\n",
       "      <td>27936</td>\n",
       "      <td>Micmacs</td>\n",
       "      <td>Action,Comedy,Crime</td>\n",
       "      <td>While standing in the doorway of the video sho...</td>\n",
       "      <td>While standing in the doorway of the video sho...</td>\n",
       "    </tr>\n",
       "    <tr>\n",
       "      <th>496</th>\n",
       "      <td>178</td>\n",
       "      <td>Blown Away</td>\n",
       "      <td>Thriller,Action,Crime,Drama</td>\n",
       "      <td>Blown Away tells the story of Jimmy Dove who w...</td>\n",
       "      <td>Blown Away tells the story of Jimmy Dove who w...</td>\n",
       "    </tr>\n",
       "    <tr>\n",
       "      <th>497</th>\n",
       "      <td>398173</td>\n",
       "      <td>The House That Jack Built</td>\n",
       "      <td>Drama,Horror,Crime,Thriller</td>\n",
       "      <td>Failed architect, engineer and vicious murdere...</td>\n",
       "      <td>Failed architect, engineer and vicious murdere...</td>\n",
       "    </tr>\n",
       "    <tr>\n",
       "      <th>498</th>\n",
       "      <td>453278</td>\n",
       "      <td>The Rider</td>\n",
       "      <td>Drama</td>\n",
       "      <td>Once a rising star of the rodeo circuit, and a...</td>\n",
       "      <td>Once a rising star of the rodeo circuit, and a...</td>\n",
       "    </tr>\n",
       "    <tr>\n",
       "      <th>499</th>\n",
       "      <td>659067</td>\n",
       "      <td>Earth and Blood</td>\n",
       "      <td>Action,Thriller</td>\n",
       "      <td>A sawmill owner and his teenage daughter becom...</td>\n",
       "      <td>A sawmill owner and his teenage daughter becom...</td>\n",
       "    </tr>\n",
       "  </tbody>\n",
       "</table>\n",
       "<p>500 rows × 5 columns</p>\n",
       "</div>"
      ],
      "text/plain": [
       "         id                        title                              genre  \\\n",
       "0    332567                 The Shallows              Horror,Drama,Thriller   \n",
       "1    727293               The Tender Bar                              Drama   \n",
       "2      9385  The Twelve Tasks of Asterix  Family,Animation,Comedy,Adventure   \n",
       "3    635731                          Pig                     Drama,Thriller   \n",
       "4      8835               Legally Blonde                             Comedy   \n",
       "..      ...                          ...                                ...   \n",
       "495   27936                      Micmacs                Action,Comedy,Crime   \n",
       "496     178                   Blown Away        Thriller,Action,Crime,Drama   \n",
       "497  398173    The House That Jack Built        Drama,Horror,Crime,Thriller   \n",
       "498  453278                    The Rider                              Drama   \n",
       "499  659067              Earth and Blood                    Action,Thriller   \n",
       "\n",
       "                                              overview  \\\n",
       "0    When Nancy is surfing on a secluded beach, she...   \n",
       "1    J.R. is a fatherless boy growing up in the glo...   \n",
       "2    Asterix and Obelix depart on an adventure to c...   \n",
       "3    A truffle hunter who lives alone in the Oregon...   \n",
       "4    Elle Woods, a fashionable sorority queen, is d...   \n",
       "..                                                 ...   \n",
       "495  While standing in the doorway of the video sho...   \n",
       "496  Blown Away tells the story of Jimmy Dove who w...   \n",
       "497  Failed architect, engineer and vicious murdere...   \n",
       "498  Once a rising star of the rodeo circuit, and a...   \n",
       "499  A sawmill owner and his teenage daughter becom...   \n",
       "\n",
       "                                                  tags  \n",
       "0    When Nancy is surfing on a secluded beach, she...  \n",
       "1    J.R. is a fatherless boy growing up in the glo...  \n",
       "2    Asterix and Obelix depart on an adventure to c...  \n",
       "3    A truffle hunter who lives alone in the Oregon...  \n",
       "4    Elle Woods, a fashionable sorority queen, is d...  \n",
       "..                                                 ...  \n",
       "495  While standing in the doorway of the video sho...  \n",
       "496  Blown Away tells the story of Jimmy Dove who w...  \n",
       "497  Failed architect, engineer and vicious murdere...  \n",
       "498  Once a rising star of the rodeo circuit, and a...  \n",
       "499  A sawmill owner and his teenage daughter becom...  \n",
       "\n",
       "[500 rows x 5 columns]"
      ]
     },
     "execution_count": 16,
     "metadata": {},
     "output_type": "execute_result"
    }
   ],
   "source": [
    "movies"
   ]
  },
  {
   "cell_type": "code",
   "execution_count": 17,
   "id": "62a0eba4",
   "metadata": {},
   "outputs": [],
   "source": [
    "new_data = movies.drop(columns=['genre', 'overview'])"
   ]
  },
  {
   "cell_type": "code",
   "execution_count": 18,
   "id": "ada18845",
   "metadata": {},
   "outputs": [],
   "source": [
    "from sklearn.feature_extraction.text import CountVectorizer"
   ]
  },
  {
   "cell_type": "code",
   "execution_count": 19,
   "id": "8bd42290",
   "metadata": {},
   "outputs": [],
   "source": [
    "cv = CountVectorizer(max_features = 10000, stop_words = 'english')"
   ]
  },
  {
   "cell_type": "code",
   "execution_count": 20,
   "id": "011c3ca8",
   "metadata": {},
   "outputs": [
    {
     "data": {
      "text/html": [
       "<style>#sk-container-id-1 {color: black;}#sk-container-id-1 pre{padding: 0;}#sk-container-id-1 div.sk-toggleable {background-color: white;}#sk-container-id-1 label.sk-toggleable__label {cursor: pointer;display: block;width: 100%;margin-bottom: 0;padding: 0.3em;box-sizing: border-box;text-align: center;}#sk-container-id-1 label.sk-toggleable__label-arrow:before {content: \"▸\";float: left;margin-right: 0.25em;color: #696969;}#sk-container-id-1 label.sk-toggleable__label-arrow:hover:before {color: black;}#sk-container-id-1 div.sk-estimator:hover label.sk-toggleable__label-arrow:before {color: black;}#sk-container-id-1 div.sk-toggleable__content {max-height: 0;max-width: 0;overflow: hidden;text-align: left;background-color: #f0f8ff;}#sk-container-id-1 div.sk-toggleable__content pre {margin: 0.2em;color: black;border-radius: 0.25em;background-color: #f0f8ff;}#sk-container-id-1 input.sk-toggleable__control:checked~div.sk-toggleable__content {max-height: 200px;max-width: 100%;overflow: auto;}#sk-container-id-1 input.sk-toggleable__control:checked~label.sk-toggleable__label-arrow:before {content: \"▾\";}#sk-container-id-1 div.sk-estimator input.sk-toggleable__control:checked~label.sk-toggleable__label {background-color: #d4ebff;}#sk-container-id-1 div.sk-label input.sk-toggleable__control:checked~label.sk-toggleable__label {background-color: #d4ebff;}#sk-container-id-1 input.sk-hidden--visually {border: 0;clip: rect(1px 1px 1px 1px);clip: rect(1px, 1px, 1px, 1px);height: 1px;margin: -1px;overflow: hidden;padding: 0;position: absolute;width: 1px;}#sk-container-id-1 div.sk-estimator {font-family: monospace;background-color: #f0f8ff;border: 1px dotted black;border-radius: 0.25em;box-sizing: border-box;margin-bottom: 0.5em;}#sk-container-id-1 div.sk-estimator:hover {background-color: #d4ebff;}#sk-container-id-1 div.sk-parallel-item::after {content: \"\";width: 100%;border-bottom: 1px solid gray;flex-grow: 1;}#sk-container-id-1 div.sk-label:hover label.sk-toggleable__label {background-color: #d4ebff;}#sk-container-id-1 div.sk-serial::before {content: \"\";position: absolute;border-left: 1px solid gray;box-sizing: border-box;top: 0;bottom: 0;left: 50%;z-index: 0;}#sk-container-id-1 div.sk-serial {display: flex;flex-direction: column;align-items: center;background-color: white;padding-right: 0.2em;padding-left: 0.2em;position: relative;}#sk-container-id-1 div.sk-item {position: relative;z-index: 1;}#sk-container-id-1 div.sk-parallel {display: flex;align-items: stretch;justify-content: center;background-color: white;position: relative;}#sk-container-id-1 div.sk-item::before, #sk-container-id-1 div.sk-parallel-item::before {content: \"\";position: absolute;border-left: 1px solid gray;box-sizing: border-box;top: 0;bottom: 0;left: 50%;z-index: -1;}#sk-container-id-1 div.sk-parallel-item {display: flex;flex-direction: column;z-index: 1;position: relative;background-color: white;}#sk-container-id-1 div.sk-parallel-item:first-child::after {align-self: flex-end;width: 50%;}#sk-container-id-1 div.sk-parallel-item:last-child::after {align-self: flex-start;width: 50%;}#sk-container-id-1 div.sk-parallel-item:only-child::after {width: 0;}#sk-container-id-1 div.sk-dashed-wrapped {border: 1px dashed gray;margin: 0 0.4em 0.5em 0.4em;box-sizing: border-box;padding-bottom: 0.4em;background-color: white;}#sk-container-id-1 div.sk-label label {font-family: monospace;font-weight: bold;display: inline-block;line-height: 1.2em;}#sk-container-id-1 div.sk-label-container {text-align: center;}#sk-container-id-1 div.sk-container {/* jupyter's `normalize.less` sets `[hidden] { display: none; }` but bootstrap.min.css set `[hidden] { display: none !important; }` so we also need the `!important` here to be able to override the default hidden behavior on the sphinx rendered scikit-learn.org. See: https://github.com/scikit-learn/scikit-learn/issues/21755 */display: inline-block !important;position: relative;}#sk-container-id-1 div.sk-text-repr-fallback {display: none;}</style><div id=\"sk-container-id-1\" class=\"sk-top-container\"><div class=\"sk-text-repr-fallback\"><pre>CountVectorizer(max_features=10000, stop_words=&#x27;english&#x27;)</pre><b>In a Jupyter environment, please rerun this cell to show the HTML representation or trust the notebook. <br />On GitHub, the HTML representation is unable to render, please try loading this page with nbviewer.org.</b></div><div class=\"sk-container\" hidden><div class=\"sk-item\"><div class=\"sk-estimator sk-toggleable\"><input class=\"sk-toggleable__control sk-hidden--visually\" id=\"sk-estimator-id-1\" type=\"checkbox\" checked><label for=\"sk-estimator-id-1\" class=\"sk-toggleable__label sk-toggleable__label-arrow\">CountVectorizer</label><div class=\"sk-toggleable__content\"><pre>CountVectorizer(max_features=10000, stop_words=&#x27;english&#x27;)</pre></div></div></div></div></div>"
      ],
      "text/plain": [
       "CountVectorizer(max_features=10000, stop_words='english')"
      ]
     },
     "execution_count": 20,
     "metadata": {},
     "output_type": "execute_result"
    }
   ],
   "source": [
    "cv"
   ]
  },
  {
   "cell_type": "code",
   "execution_count": 21,
   "id": "821e7218",
   "metadata": {},
   "outputs": [],
   "source": [
    "vector = cv.fit_transform(new_data['tags'].values.astype('U')).toarray()"
   ]
  },
  {
   "cell_type": "code",
   "execution_count": 22,
   "id": "c8605686",
   "metadata": {},
   "outputs": [
    {
     "data": {
      "text/plain": [
       "(500, 5478)"
      ]
     },
     "execution_count": 22,
     "metadata": {},
     "output_type": "execute_result"
    }
   ],
   "source": [
    "vector.shape"
   ]
  },
  {
   "cell_type": "code",
   "execution_count": 23,
   "id": "3558ea3b",
   "metadata": {},
   "outputs": [],
   "source": [
    "from sklearn.metrics.pairwise import cosine_similarity"
   ]
  },
  {
   "cell_type": "code",
   "execution_count": 24,
   "id": "3a1cc668",
   "metadata": {},
   "outputs": [],
   "source": [
    "similarity = cosine_similarity(vector)"
   ]
  },
  {
   "cell_type": "code",
   "execution_count": 25,
   "id": "55e28d9b",
   "metadata": {},
   "outputs": [
    {
     "ename": "IndexError",
     "evalue": "index 0 is out of bounds for axis 0 with size 0",
     "output_type": "error",
     "traceback": [
      "\u001b[1;31m---------------------------------------------------------------------------\u001b[0m",
      "\u001b[1;31mIndexError\u001b[0m                                Traceback (most recent call last)",
      "Cell \u001b[1;32mIn[25], line 1\u001b[0m\n\u001b[1;32m----> 1\u001b[0m new_data[new_data[\u001b[38;5;124m'\u001b[39m\u001b[38;5;124mtitle\u001b[39m\u001b[38;5;124m'\u001b[39m]\u001b[38;5;241m==\u001b[39m\u001b[38;5;124m\"\u001b[39m\u001b[38;5;124mThe Godfather\u001b[39m\u001b[38;5;124m\"\u001b[39m]\u001b[38;5;241m.\u001b[39mindex[\u001b[38;5;241m0\u001b[39m]\n",
      "File \u001b[1;32m~\\AppData\\Local\\anaconda3\\Lib\\site-packages\\pandas\\core\\indexes\\base.py:5175\u001b[0m, in \u001b[0;36mIndex.__getitem__\u001b[1;34m(self, key)\u001b[0m\n\u001b[0;32m   5172\u001b[0m \u001b[38;5;28;01mif\u001b[39;00m is_integer(key) \u001b[38;5;129;01mor\u001b[39;00m is_float(key):\n\u001b[0;32m   5173\u001b[0m     \u001b[38;5;66;03m# GH#44051 exclude bool, which would return a 2d ndarray\u001b[39;00m\n\u001b[0;32m   5174\u001b[0m     key \u001b[38;5;241m=\u001b[39m com\u001b[38;5;241m.\u001b[39mcast_scalar_indexer(key)\n\u001b[1;32m-> 5175\u001b[0m     \u001b[38;5;28;01mreturn\u001b[39;00m getitem(key)\n\u001b[0;32m   5177\u001b[0m \u001b[38;5;28;01mif\u001b[39;00m \u001b[38;5;28misinstance\u001b[39m(key, \u001b[38;5;28mslice\u001b[39m):\n\u001b[0;32m   5178\u001b[0m     \u001b[38;5;66;03m# This case is separated from the conditional above to avoid\u001b[39;00m\n\u001b[0;32m   5179\u001b[0m     \u001b[38;5;66;03m# pessimization com.is_bool_indexer and ndim checks.\u001b[39;00m\n\u001b[0;32m   5180\u001b[0m     result \u001b[38;5;241m=\u001b[39m getitem(key)\n",
      "\u001b[1;31mIndexError\u001b[0m: index 0 is out of bounds for axis 0 with size 0"
     ]
    }
   ],
   "source": [
    "new_data[new_data['title']==\"The Godfather\"].index[0]"
   ]
  },
  {
   "cell_type": "code",
   "execution_count": 26,
   "id": "5f74aafc",
   "metadata": {},
   "outputs": [
    {
     "name": "stdout",
     "output_type": "stream",
     "text": [
      "The Twelve Tasks of Asterix\n",
      "Balto II: Wolf Quest\n",
      "Asterix & Obelix: God Save Britannia\n",
      "Wizards of Waverly Place: The Movie\n",
      "TMNT\n"
     ]
    }
   ],
   "source": [
    "distance = sorted(list(enumerate(similarity[2])), reverse = True, key = lambda vector:vector[1])\n",
    "for i in distance[0:5]:\n",
    "    print(new_data.iloc[i[0]].title)"
   ]
  },
  {
   "cell_type": "code",
   "execution_count": 27,
   "id": "59a69bd2",
   "metadata": {},
   "outputs": [],
   "source": [
    "def recommend(movie_title):\n",
    "    # Use fuzzywuzzy to find the closest match\n",
    "    closest_match = process.extractOne(movie_title, new_data['title'].values)\n",
    "    \n",
    "    if closest_match is None:\n",
    "        print(f\"Movie '{movie_title}' not found in the dataset.\")\n",
    "        return\n",
    "    \n",
    "    closest_title = closest_match[0]\n",
    "    index = new_data[new_data['title'] == closest_title].index[0]\n",
    "    distances = sorted(list(enumerate(similarity[index])), reverse=True, key=lambda x: x[1])\n",
    "    \n",
    "    print(f\"Movies similar to '{closest_title}':\")\n",
    "    for i in distances[1:6]:  # Starting from 1 to exclude the movie itself\n",
    "        print(new_data.iloc[i[0]].title)"
   ]
  },
  {
   "cell_type": "code",
   "execution_count": 28,
   "id": "42cb5cd7",
   "metadata": {},
   "outputs": [
    {
     "name": "stdout",
     "output_type": "stream",
     "text": [
      "Movies similar to 'Man Down':\n",
      "Disobedience\n",
      "Hachi: A Dog's Tale\n",
      "Within\n",
      "Extortion\n",
      "Hush\n"
     ]
    }
   ],
   "source": [
    "recommend(\"iron mann\")"
   ]
  },
  {
   "cell_type": "code",
   "execution_count": 29,
   "id": "78b511db",
   "metadata": {},
   "outputs": [],
   "source": [
    "import pickle"
   ]
  },
  {
   "cell_type": "code",
   "execution_count": 30,
   "id": "7c7707a9",
   "metadata": {},
   "outputs": [],
   "source": [
    "pickle.dump(new_data, open('movies_list.pkl', 'wb'))"
   ]
  },
  {
   "cell_type": "code",
   "execution_count": 31,
   "id": "5d84d870",
   "metadata": {},
   "outputs": [],
   "source": [
    "pickle.dump(similarity, open('similarity.pkl', 'wb'))"
   ]
  },
  {
   "cell_type": "code",
   "execution_count": 32,
   "id": "711bbf0c",
   "metadata": {},
   "outputs": [
    {
     "data": {
      "text/html": [
       "<div>\n",
       "<style scoped>\n",
       "    .dataframe tbody tr th:only-of-type {\n",
       "        vertical-align: middle;\n",
       "    }\n",
       "\n",
       "    .dataframe tbody tr th {\n",
       "        vertical-align: top;\n",
       "    }\n",
       "\n",
       "    .dataframe thead th {\n",
       "        text-align: right;\n",
       "    }\n",
       "</style>\n",
       "<table border=\"1\" class=\"dataframe\">\n",
       "  <thead>\n",
       "    <tr style=\"text-align: right;\">\n",
       "      <th></th>\n",
       "      <th>id</th>\n",
       "      <th>title</th>\n",
       "      <th>tags</th>\n",
       "    </tr>\n",
       "  </thead>\n",
       "  <tbody>\n",
       "    <tr>\n",
       "      <th>0</th>\n",
       "      <td>332567</td>\n",
       "      <td>The Shallows</td>\n",
       "      <td>When Nancy is surfing on a secluded beach, she...</td>\n",
       "    </tr>\n",
       "    <tr>\n",
       "      <th>1</th>\n",
       "      <td>727293</td>\n",
       "      <td>The Tender Bar</td>\n",
       "      <td>J.R. is a fatherless boy growing up in the glo...</td>\n",
       "    </tr>\n",
       "    <tr>\n",
       "      <th>2</th>\n",
       "      <td>9385</td>\n",
       "      <td>The Twelve Tasks of Asterix</td>\n",
       "      <td>Asterix and Obelix depart on an adventure to c...</td>\n",
       "    </tr>\n",
       "    <tr>\n",
       "      <th>3</th>\n",
       "      <td>635731</td>\n",
       "      <td>Pig</td>\n",
       "      <td>A truffle hunter who lives alone in the Oregon...</td>\n",
       "    </tr>\n",
       "    <tr>\n",
       "      <th>4</th>\n",
       "      <td>8835</td>\n",
       "      <td>Legally Blonde</td>\n",
       "      <td>Elle Woods, a fashionable sorority queen, is d...</td>\n",
       "    </tr>\n",
       "    <tr>\n",
       "      <th>...</th>\n",
       "      <td>...</td>\n",
       "      <td>...</td>\n",
       "      <td>...</td>\n",
       "    </tr>\n",
       "    <tr>\n",
       "      <th>495</th>\n",
       "      <td>27936</td>\n",
       "      <td>Micmacs</td>\n",
       "      <td>While standing in the doorway of the video sho...</td>\n",
       "    </tr>\n",
       "    <tr>\n",
       "      <th>496</th>\n",
       "      <td>178</td>\n",
       "      <td>Blown Away</td>\n",
       "      <td>Blown Away tells the story of Jimmy Dove who w...</td>\n",
       "    </tr>\n",
       "    <tr>\n",
       "      <th>497</th>\n",
       "      <td>398173</td>\n",
       "      <td>The House That Jack Built</td>\n",
       "      <td>Failed architect, engineer and vicious murdere...</td>\n",
       "    </tr>\n",
       "    <tr>\n",
       "      <th>498</th>\n",
       "      <td>453278</td>\n",
       "      <td>The Rider</td>\n",
       "      <td>Once a rising star of the rodeo circuit, and a...</td>\n",
       "    </tr>\n",
       "    <tr>\n",
       "      <th>499</th>\n",
       "      <td>659067</td>\n",
       "      <td>Earth and Blood</td>\n",
       "      <td>A sawmill owner and his teenage daughter becom...</td>\n",
       "    </tr>\n",
       "  </tbody>\n",
       "</table>\n",
       "<p>500 rows × 3 columns</p>\n",
       "</div>"
      ],
      "text/plain": [
       "         id                        title  \\\n",
       "0    332567                 The Shallows   \n",
       "1    727293               The Tender Bar   \n",
       "2      9385  The Twelve Tasks of Asterix   \n",
       "3    635731                          Pig   \n",
       "4      8835               Legally Blonde   \n",
       "..      ...                          ...   \n",
       "495   27936                      Micmacs   \n",
       "496     178                   Blown Away   \n",
       "497  398173    The House That Jack Built   \n",
       "498  453278                    The Rider   \n",
       "499  659067              Earth and Blood   \n",
       "\n",
       "                                                  tags  \n",
       "0    When Nancy is surfing on a secluded beach, she...  \n",
       "1    J.R. is a fatherless boy growing up in the glo...  \n",
       "2    Asterix and Obelix depart on an adventure to c...  \n",
       "3    A truffle hunter who lives alone in the Oregon...  \n",
       "4    Elle Woods, a fashionable sorority queen, is d...  \n",
       "..                                                 ...  \n",
       "495  While standing in the doorway of the video sho...  \n",
       "496  Blown Away tells the story of Jimmy Dove who w...  \n",
       "497  Failed architect, engineer and vicious murdere...  \n",
       "498  Once a rising star of the rodeo circuit, and a...  \n",
       "499  A sawmill owner and his teenage daughter becom...  \n",
       "\n",
       "[500 rows x 3 columns]"
      ]
     },
     "execution_count": 32,
     "metadata": {},
     "output_type": "execute_result"
    }
   ],
   "source": [
    "pickle.load(open('movies_list.pkl', 'rb'))"
   ]
  },
  {
   "cell_type": "code",
   "execution_count": 33,
   "id": "fe4ce19e",
   "metadata": {},
   "outputs": [
    {
     "name": "stdout",
     "output_type": "stream",
     "text": [
      "Requirement already satisfied: streamlit in c:\\users\\geoffrey\\appdata\\local\\anaconda3\\lib\\site-packages (1.35.0)\n",
      "Requirement already satisfied: altair<6,>=4.0 in c:\\users\\geoffrey\\appdata\\local\\anaconda3\\lib\\site-packages (from streamlit) (5.3.0)\n",
      "Requirement already satisfied: blinker<2,>=1.0.0 in c:\\users\\geoffrey\\appdata\\local\\anaconda3\\lib\\site-packages (from streamlit) (1.8.2)\n",
      "Requirement already satisfied: cachetools<6,>=4.0 in c:\\users\\geoffrey\\appdata\\local\\anaconda3\\lib\\site-packages (from streamlit) (5.3.3)\n",
      "Requirement already satisfied: click<9,>=7.0 in c:\\users\\geoffrey\\appdata\\local\\anaconda3\\lib\\site-packages (from streamlit) (8.0.4)\n",
      "Requirement already satisfied: numpy<2,>=1.19.3 in c:\\users\\geoffrey\\appdata\\local\\anaconda3\\lib\\site-packages (from streamlit) (1.24.3)\n",
      "Requirement already satisfied: packaging<25,>=16.8 in c:\\users\\geoffrey\\appdata\\local\\anaconda3\\lib\\site-packages (from streamlit) (23.1)\n",
      "Requirement already satisfied: pandas<3,>=1.3.0 in c:\\users\\geoffrey\\appdata\\local\\anaconda3\\lib\\site-packages (from streamlit) (2.0.3)\n",
      "Requirement already satisfied: pillow<11,>=7.1.0 in c:\\users\\geoffrey\\appdata\\local\\anaconda3\\lib\\site-packages (from streamlit) (9.4.0)\n",
      "Requirement already satisfied: protobuf<5,>=3.20 in c:\\users\\geoffrey\\appdata\\local\\anaconda3\\lib\\site-packages (from streamlit) (4.25.3)\n",
      "Requirement already satisfied: pyarrow>=7.0 in c:\\users\\geoffrey\\appdata\\local\\anaconda3\\lib\\site-packages (from streamlit) (11.0.0)\n",
      "Requirement already satisfied: requests<3,>=2.27 in c:\\users\\geoffrey\\appdata\\local\\anaconda3\\lib\\site-packages (from streamlit) (2.31.0)\n",
      "Requirement already satisfied: rich<14,>=10.14.0 in c:\\users\\geoffrey\\appdata\\local\\anaconda3\\lib\\site-packages (from streamlit) (13.7.1)\n",
      "Requirement already satisfied: tenacity<9,>=8.1.0 in c:\\users\\geoffrey\\appdata\\local\\anaconda3\\lib\\site-packages (from streamlit) (8.2.2)\n",
      "Requirement already satisfied: toml<2,>=0.10.1 in c:\\users\\geoffrey\\appdata\\local\\anaconda3\\lib\\site-packages (from streamlit) (0.10.2)\n",
      "Requirement already satisfied: typing-extensions<5,>=4.3.0 in c:\\users\\geoffrey\\appdata\\local\\anaconda3\\lib\\site-packages (from streamlit) (4.7.1)\n",
      "Requirement already satisfied: gitpython!=3.1.19,<4,>=3.0.7 in c:\\users\\geoffrey\\appdata\\local\\anaconda3\\lib\\site-packages (from streamlit) (3.1.43)\n",
      "Requirement already satisfied: pydeck<1,>=0.8.0b4 in c:\\users\\geoffrey\\appdata\\local\\anaconda3\\lib\\site-packages (from streamlit) (0.9.1)\n",
      "Requirement already satisfied: tornado<7,>=6.0.3 in c:\\users\\geoffrey\\appdata\\local\\anaconda3\\lib\\site-packages (from streamlit) (6.3.2)\n",
      "Requirement already satisfied: watchdog>=2.1.5 in c:\\users\\geoffrey\\appdata\\local\\anaconda3\\lib\\site-packages (from streamlit) (2.1.6)\n",
      "Requirement already satisfied: jinja2 in c:\\users\\geoffrey\\appdata\\local\\anaconda3\\lib\\site-packages (from altair<6,>=4.0->streamlit) (3.1.2)\n",
      "Requirement already satisfied: jsonschema>=3.0 in c:\\users\\geoffrey\\appdata\\local\\anaconda3\\lib\\site-packages (from altair<6,>=4.0->streamlit) (4.17.3)\n",
      "Requirement already satisfied: toolz in c:\\users\\geoffrey\\appdata\\local\\anaconda3\\lib\\site-packages (from altair<6,>=4.0->streamlit) (0.12.0)\n",
      "Requirement already satisfied: colorama in c:\\users\\geoffrey\\appdata\\local\\anaconda3\\lib\\site-packages (from click<9,>=7.0->streamlit) (0.4.6)\n",
      "Requirement already satisfied: gitdb<5,>=4.0.1 in c:\\users\\geoffrey\\appdata\\local\\anaconda3\\lib\\site-packages (from gitpython!=3.1.19,<4,>=3.0.7->streamlit) (4.0.11)\n",
      "Requirement already satisfied: python-dateutil>=2.8.2 in c:\\users\\geoffrey\\appdata\\local\\anaconda3\\lib\\site-packages (from pandas<3,>=1.3.0->streamlit) (2.8.2)\n",
      "Requirement already satisfied: pytz>=2020.1 in c:\\users\\geoffrey\\appdata\\local\\anaconda3\\lib\\site-packages (from pandas<3,>=1.3.0->streamlit) (2023.3.post1)\n",
      "Requirement already satisfied: tzdata>=2022.1 in c:\\users\\geoffrey\\appdata\\local\\anaconda3\\lib\\site-packages (from pandas<3,>=1.3.0->streamlit) (2023.3)\n",
      "Requirement already satisfied: charset-normalizer<4,>=2 in c:\\users\\geoffrey\\appdata\\local\\anaconda3\\lib\\site-packages (from requests<3,>=2.27->streamlit) (2.0.4)\n",
      "Requirement already satisfied: idna<4,>=2.5 in c:\\users\\geoffrey\\appdata\\local\\anaconda3\\lib\\site-packages (from requests<3,>=2.27->streamlit) (3.4)\n",
      "Requirement already satisfied: urllib3<3,>=1.21.1 in c:\\users\\geoffrey\\appdata\\local\\anaconda3\\lib\\site-packages (from requests<3,>=2.27->streamlit) (1.26.16)\n",
      "Requirement already satisfied: certifi>=2017.4.17 in c:\\users\\geoffrey\\appdata\\local\\anaconda3\\lib\\site-packages (from requests<3,>=2.27->streamlit) (2024.2.2)\n",
      "Requirement already satisfied: markdown-it-py>=2.2.0 in c:\\users\\geoffrey\\appdata\\local\\anaconda3\\lib\\site-packages (from rich<14,>=10.14.0->streamlit) (2.2.0)\n",
      "Requirement already satisfied: pygments<3.0.0,>=2.13.0 in c:\\users\\geoffrey\\appdata\\local\\anaconda3\\lib\\site-packages (from rich<14,>=10.14.0->streamlit) (2.15.1)\n",
      "Requirement already satisfied: smmap<6,>=3.0.1 in c:\\users\\geoffrey\\appdata\\local\\anaconda3\\lib\\site-packages (from gitdb<5,>=4.0.1->gitpython!=3.1.19,<4,>=3.0.7->streamlit) (5.0.1)\n",
      "Requirement already satisfied: MarkupSafe>=2.0 in c:\\users\\geoffrey\\appdata\\local\\anaconda3\\lib\\site-packages (from jinja2->altair<6,>=4.0->streamlit) (2.1.1)\n",
      "Requirement already satisfied: attrs>=17.4.0 in c:\\users\\geoffrey\\appdata\\local\\anaconda3\\lib\\site-packages (from jsonschema>=3.0->altair<6,>=4.0->streamlit) (22.1.0)\n",
      "Requirement already satisfied: pyrsistent!=0.17.0,!=0.17.1,!=0.17.2,>=0.14.0 in c:\\users\\geoffrey\\appdata\\local\\anaconda3\\lib\\site-packages (from jsonschema>=3.0->altair<6,>=4.0->streamlit) (0.18.0)\n",
      "Requirement already satisfied: mdurl~=0.1 in c:\\users\\geoffrey\\appdata\\local\\anaconda3\\lib\\site-packages (from markdown-it-py>=2.2.0->rich<14,>=10.14.0->streamlit) (0.1.0)\n",
      "Requirement already satisfied: six>=1.5 in c:\\users\\geoffrey\\appdata\\local\\anaconda3\\lib\\site-packages (from python-dateutil>=2.8.2->pandas<3,>=1.3.0->streamlit) (1.16.0)\n"
     ]
    }
   ],
   "source": [
    "!pip install streamlit"
   ]
  },
  {
   "cell_type": "code",
   "execution_count": null,
   "id": "6d280bf5",
   "metadata": {},
   "outputs": [],
   "source": []
  }
 ],
 "metadata": {
  "kernelspec": {
   "display_name": "Python 3 (ipykernel)",
   "language": "python",
   "name": "python3"
  },
  "language_info": {
   "codemirror_mode": {
    "name": "ipython",
    "version": 3
   },
   "file_extension": ".py",
   "mimetype": "text/x-python",
   "name": "python",
   "nbconvert_exporter": "python",
   "pygments_lexer": "ipython3",
   "version": "3.11.5"
  }
 },
 "nbformat": 4,
 "nbformat_minor": 5
}
